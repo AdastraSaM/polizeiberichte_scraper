{
 "cells": [
  {
   "cell_type": "code",
   "execution_count": 1,
   "metadata": {},
   "outputs": [],
   "source": [
    "import pickle\n",
    "import seaborn as sns\n",
    "import pandas as pd"
   ]
  },
  {
   "cell_type": "code",
   "execution_count": 2,
   "metadata": {},
   "outputs": [],
   "source": [
    "model_pkl = open(r\"..\\resources\\pickled\\SVC_author_classifier.pkl\", 'rb')\n",
    "model = pickle.load(model_pkl)\n",
    "model_pkl.close()\n",
    "\n",
    "transformer_count_pkl = open(r\"..\\resources\\pickled\\count_transformer.pkl\", \"rb\")\n",
    "count_transformer = pickle.load(transformer_count_pkl)\n",
    "transformer_count_pkl.close()\n",
    "\n",
    "transformer_tfidf_pkl = open(r\"..\\resources\\pickled\\tfidf_transformer.pkl\", \"rb\")\n",
    "tfidf_transformer = pickle.load(transformer_tfidf_pkl)\n",
    "transformer_tfidf_pkl.close()"
   ]
  },
  {
   "cell_type": "code",
   "execution_count": 214,
   "metadata": {},
   "outputs": [],
   "source": [
    "new_text = r\"Freitagmittag kam es auf der Hügelstraße zu einem Unfall zwischen einem Mercedes und einer 11-jährigen Fußgängerin. Das Kind wurde bei dem Zusammenstoß verletzt. Der 61-jährige Mercedes-Fahrer war, gegen 13.00 Uhr, auf der Hügelstraße in Richtung Eschersheimer Landstraße unterwegs. Nachdem er an einer roten Ampel angehalten hatte, fuhr er wieder an, jedoch überquerte in diesem Moment die 11-Jährige die Fahrbahn. Sie trug durch den Zusammenstoß Verletzungen davon und wurde zur Behandlung in ein Krankenhaus eingeliefert. Der 61-Jährige blieb unverletzt und an dem Mercedes entstanden lediglich leichte Beschädigungen. Wie es genau zu dem Unfall kommen konnte, ist Gegenstand der laufenden Ermittlungen.\"\n",
    "new_text_transf = tfidf_transformer.transform(count_transformer.transform([new_text]))"
   ]
  },
  {
   "cell_type": "code",
   "execution_count": 215,
   "metadata": {},
   "outputs": [],
   "source": [
    "probas = model.predict_proba(new_text_transf)[0]"
   ]
  },
  {
   "cell_type": "code",
   "execution_count": 216,
   "metadata": {},
   "outputs": [
    {
     "data": {
      "text/plain": [
       "<matplotlib.axes._subplots.AxesSubplot at 0x14ead329550>"
      ]
     },
     "execution_count": 216,
     "metadata": {},
     "output_type": "execute_result"
    },
    {
     "data": {
      "image/png": "[encoded data removed]",
      "text/plain": [
       "<Figure size 432x288 with 1 Axes>"
      ]
     },
     "metadata": {
      "needs_background": "light"
     },
     "output_type": "display_data"
    }
   ],
   "source": [
    "plotdata = pd.DataFrame()\n",
    "plotdata[\"class\"] = model.classes_\n",
    "plotdata[\"probas\"] = probas\n",
    "\n",
    "sns.barplot(x=\"class\", y=\"probas\", data=plotdata)"
   ]
  },
  {
   "cell_type": "code",
   "execution_count": null,
   "metadata": {},
   "outputs": [],
   "source": []
  },
  {
   "cell_type": "code",
   "execution_count": null,
   "metadata": {},
   "outputs": [],
   "source": []
  }
 ],
 "metadata": {
  "kernelspec": {
   "display_name": "Python 3",
   "language": "python",
   "name": "python3"
  },
  "language_info": {
   "codemirror_mode": {
    "name": "ipython",
    "version": 3
   },
   "file_extension": ".py",
   "mimetype": "text/x-python",
   "name": "python",
   "nbconvert_exporter": "python",
   "pygments_lexer": "ipython3",
   "version": "3.7.3"
  }
 },
 "nbformat": 4,
 "nbformat_minor": 2
}
