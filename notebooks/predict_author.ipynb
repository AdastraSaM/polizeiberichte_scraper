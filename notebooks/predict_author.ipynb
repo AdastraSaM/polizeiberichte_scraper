{
 "cells": [
  {
   "cell_type": "code",
   "execution_count": 1,
   "metadata": {},
   "outputs": [],
   "source": [
    "import pickle\n",
    "import seaborn as sns\n",
    "import pandas as pd"
   ]
  },
  {
   "cell_type": "code",
   "execution_count": 2,
   "metadata": {},
   "outputs": [],
   "source": [
    "model_pkl = open(r\"..\\resources\\pickled\\SVC_author_classifier_neu.pkl\", 'rb')\n",
    "model = pickle.load(model_pkl)\n",
    "model_pkl.close()\n",
    "\n",
    "transformer_count_pkl = open(r\"..\\resources\\pickled\\count_transformer_neu.pkl\", \"rb\")\n",
    "count_transformer = pickle.load(transformer_count_pkl)\n",
    "transformer_count_pkl.close()\n",
    "\n",
    "transformer_tfidf_pkl = open(r\"..\\resources\\pickled\\tfidf_transformer_neu.pkl\", \"rb\")\n",
    "tfidf_transformer = pickle.load(transformer_tfidf_pkl)\n",
    "transformer_tfidf_pkl.close()"
   ]
  },
  {
   "cell_type": "code",
   "execution_count": 22,
   "metadata": {},
   "outputs": [],
   "source": [
    "new_text = r\"In der vergangenen Woche hat ein 25-jähriger Mann mit Falschgeld ein Schmuckstück erworben, um dieses anschließend weiterzuverkaufen. Hierbei hatte er die Rechnung jedoch ohne die 34-jährige Geschädigte sowie die Kriminalpolizei gemacht. Am Montag, den 15. Juli 2019 verkaufte die 34-Jährige über eine Internetplattform einen Platinring der Marke Tiffany für 6.000 Euro in bar an einen unbekannten Mann. Als dieser mitsamt dem Schmuckstück bereits von dannen gezogen war, musste sie feststellen, dass sie Falschgeld in den Händen hielt. Sofort erstattete sie bei der Polizei Anzeige. Zwei Tage später wurde ihr Ring auf derselben Plattform zum Verkauf angeboten. Statt einer ordentlichen Summe echtes Geld, erwartete den Anbieter des Ringes ein Besuch der Kriminalpolizei; mitsamt Festnahme. Die Beamten der Frankfurter Kriminalpolizei stellten mit der Unterstützung der Kollegen der RKI Bad Homburg nicht nur den Ring sicher. Im Zuge einer Wohnungsdurchsuchung wurden zudem unter anderem Pakete mit Testosteron sowie weitere Falsifikate (Falschgeld) aufgefunden und beschlagnahmt. Der 25-Jährige wurde dem Haftrichter vorgeführt und befindet sich nun in Untersuchungshaft. Die Ermittlungen dauern an.\"\n",
    "new_text_transf = tfidf_transformer.transform(count_transformer.transform([new_text]))"
   ]
  },
  {
   "cell_type": "code",
   "execution_count": 23,
   "metadata": {},
   "outputs": [],
   "source": [
    "probas = model.predict_proba(new_text_transf)[0]"
   ]
  },
  {
   "cell_type": "code",
   "execution_count": 24,
   "metadata": {},
   "outputs": [
    {
     "data": {
      "text/plain": [
       "<matplotlib.axes._subplots.AxesSubplot at 0x28d181890f0>"
      ]
     },
     "execution_count": 24,
     "metadata": {},
     "output_type": "execute_result"
    },
    {
     "data": {
      "image/png": "[encoded data removed]",
      "text/plain": [
       "<Figure size 432x288 with 1 Axes>"
      ]
     },
     "metadata": {
      "needs_background": "light"
     },
     "output_type": "display_data"
    }
   ],
   "source": [
    "plotdata = pd.DataFrame()\n",
    "plotdata[\"class\"] = model.classes_\n",
    "plotdata[\"probas\"] = probas\n",
    "\n",
    "sns.barplot(x=\"class\", y=\"probas\", data=plotdata)"
   ]
  },
  {
   "cell_type": "code",
   "execution_count": null,
   "metadata": {},
   "outputs": [],
   "source": []
  }
 ],
 "metadata": {
  "kernelspec": {
   "display_name": "Python 3",
   "language": "python",
   "name": "python3"
  },
  "language_info": {
   "codemirror_mode": {
    "name": "ipython",
    "version": 3
   },
   "file_extension": ".py",
   "mimetype": "text/x-python",
   "name": "python",
   "nbconvert_exporter": "python",
   "pygments_lexer": "ipython3",
   "version": "3.7.3"
  }
 },
 "nbformat": 4,
 "nbformat_minor": 2
}
