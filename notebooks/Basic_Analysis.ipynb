{
 "cells": [
  {
   "cell_type": "code",
   "execution_count": 1,
   "metadata": {},
   "outputs": [],
   "source": [
    "import pandas as pd\n",
    "import numpy as np\n",
    "\n",
    "import seaborn as sns\n",
    "\n",
    "pd.options.display.max_colwidth = 100"
   ]
  },
  {
   "cell_type": "code",
   "execution_count": 2,
   "metadata": {},
   "outputs": [],
   "source": [
    "berichte = pd.read_csv(r\"../out/Polizeiberichte.csv\", sep=\";\", encoding=\"UTF-8\")"
   ]
  },
  {
   "cell_type": "code",
   "execution_count": 3,
   "metadata": {},
   "outputs": [
    {
     "data": {
      "text/html": [
       "<div>\n",
       "<style scoped>\n",
       "    .dataframe tbody tr th:only-of-type {\n",
       "        vertical-align: middle;\n",
       "    }\n",
       "\n",
       "    .dataframe tbody tr th {\n",
       "        vertical-align: top;\n",
       "    }\n",
       "\n",
       "    .dataframe thead th {\n",
       "        text-align: right;\n",
       "    }\n",
       "</style>\n",
       "<table border=\"1\" class=\"dataframe\">\n",
       "  <thead>\n",
       "    <tr style=\"text-align: right;\">\n",
       "      <th></th>\n",
       "      <th>Timestamp</th>\n",
       "      <th>Ueberschrift</th>\n",
       "      <th>Hauptartikel</th>\n",
       "      <th>Link</th>\n",
       "      <th>Date</th>\n",
       "      <th>Ort</th>\n",
       "      <th>Sekundaerer Ort</th>\n",
       "      <th>Beschreibung</th>\n",
       "      <th>Author</th>\n",
       "    </tr>\n",
       "  </thead>\n",
       "  <tbody>\n",
       "    <tr>\n",
       "      <th>0</th>\n",
       "      <td>2019-04-25 11:31:00</td>\n",
       "      <td>Gute Vorbereitung beim Fahrraddiebstahl</td>\n",
       "      <td>Auch als Fahrraddieb muss man auf alles vorbereitet sein. Das dachte sich ein bislang unbekannt...</td>\n",
       "      <td>https://www.presseportal.de/blaulicht/pm/4970/4254224</td>\n",
       "      <td>2019-04-25 00:00:00</td>\n",
       "      <td>Sachsenhausen</td>\n",
       "      <td>NaN</td>\n",
       "      <td>Frankfurt(ots)</td>\n",
       "      <td>ne</td>\n",
       "    </tr>\n",
       "    <tr>\n",
       "      <th>1</th>\n",
       "      <td>2019-04-24 13:43:00</td>\n",
       "      <td>Jugendliche knacken Roller und fahren damit</td>\n",
       "      <td>Wegen des besonders schweren Diebstahls eines Rollers, des unbefugten Gebrauchs eines Rollers, ...</td>\n",
       "      <td>https://www.presseportal.de/blaulicht/pm/4970/4253364</td>\n",
       "      <td>2019-04-24 00:00:00</td>\n",
       "      <td>Nordend</td>\n",
       "      <td>NaN</td>\n",
       "      <td>Frankfurt(ots)</td>\n",
       "      <td>ne</td>\n",
       "    </tr>\n",
       "    <tr>\n",
       "      <th>2</th>\n",
       "      <td>2019-04-24 12:54:00</td>\n",
       "      <td>Beim Einparken bestohlen</td>\n",
       "      <td>Am Dienstag, den 23. April 2019, gegen 22.10 Uhr, parkte eine 22-jährige Frankfurterin ihren Pk...</td>\n",
       "      <td>https://www.presseportal.de/blaulicht/pm/4970/4253266</td>\n",
       "      <td>2019-04-24 00:00:00</td>\n",
       "      <td>Rödelheim</td>\n",
       "      <td>NaN</td>\n",
       "      <td>Frankfurt(ots)</td>\n",
       "      <td>fue</td>\n",
       "    </tr>\n",
       "    <tr>\n",
       "      <th>3</th>\n",
       "      <td>2019-04-24 12:51:00</td>\n",
       "      <td>Wohnungseinbruch</td>\n",
       "      <td>Am Dienstag, den 23. April 2019, etwa gegen 17.00 Uhr, drangen bislang unbekannte Täter gewalts...</td>\n",
       "      <td>https://www.presseportal.de/blaulicht/pm/4970/4253262</td>\n",
       "      <td>2019-04-24 00:00:00</td>\n",
       "      <td>Fechenheim</td>\n",
       "      <td>NaN</td>\n",
       "      <td>Frankfurt(ots)</td>\n",
       "      <td>fue</td>\n",
       "    </tr>\n",
       "    <tr>\n",
       "      <th>4</th>\n",
       "      <td>2019-04-24 12:48:00</td>\n",
       "      <td>Raub auf Bekleidungsgeschäft</td>\n",
       "      <td>Ein bislang unbekannter Täter betrat am Dienstag, den 23. April 2019, gegen 13.30 Uhr, ein Bekl...</td>\n",
       "      <td>https://www.presseportal.de/blaulicht/pm/4970/4253254</td>\n",
       "      <td>2019-04-24 00:00:00</td>\n",
       "      <td>Sachsenhausen</td>\n",
       "      <td>NaN</td>\n",
       "      <td>Frankfurt(ots)</td>\n",
       "      <td>fue</td>\n",
       "    </tr>\n",
       "  </tbody>\n",
       "</table>\n",
       "</div>"
      ],
      "text/plain": [
       "             Timestamp                                 Ueberschrift  \\\n",
       "0  2019-04-25 11:31:00      Gute Vorbereitung beim Fahrraddiebstahl   \n",
       "1  2019-04-24 13:43:00  Jugendliche knacken Roller und fahren damit   \n",
       "2  2019-04-24 12:54:00                     Beim Einparken bestohlen   \n",
       "3  2019-04-24 12:51:00                             Wohnungseinbruch   \n",
       "4  2019-04-24 12:48:00                 Raub auf Bekleidungsgeschäft   \n",
       "\n",
       "                                                                                          Hauptartikel  \\\n",
       "0   Auch als Fahrraddieb muss man auf alles vorbereitet sein. Das dachte sich ein bislang unbekannt...   \n",
       "1   Wegen des besonders schweren Diebstahls eines Rollers, des unbefugten Gebrauchs eines Rollers, ...   \n",
       "2   Am Dienstag, den 23. April 2019, gegen 22.10 Uhr, parkte eine 22-jährige Frankfurterin ihren Pk...   \n",
       "3   Am Dienstag, den 23. April 2019, etwa gegen 17.00 Uhr, drangen bislang unbekannte Täter gewalts...   \n",
       "4   Ein bislang unbekannter Täter betrat am Dienstag, den 23. April 2019, gegen 13.30 Uhr, ein Bekl...   \n",
       "\n",
       "                                                    Link                 Date  \\\n",
       "0  https://www.presseportal.de/blaulicht/pm/4970/4254224  2019-04-25 00:00:00   \n",
       "1  https://www.presseportal.de/blaulicht/pm/4970/4253364  2019-04-24 00:00:00   \n",
       "2  https://www.presseportal.de/blaulicht/pm/4970/4253266  2019-04-24 00:00:00   \n",
       "3  https://www.presseportal.de/blaulicht/pm/4970/4253262  2019-04-24 00:00:00   \n",
       "4  https://www.presseportal.de/blaulicht/pm/4970/4253254  2019-04-24 00:00:00   \n",
       "\n",
       "             Ort Sekundaerer Ort    Beschreibung Author  \n",
       "0  Sachsenhausen             NaN  Frankfurt(ots)     ne  \n",
       "1        Nordend             NaN  Frankfurt(ots)     ne  \n",
       "2      Rödelheim             NaN  Frankfurt(ots)    fue  \n",
       "3     Fechenheim             NaN  Frankfurt(ots)    fue  \n",
       "4  Sachsenhausen             NaN  Frankfurt(ots)    fue  "
      ]
     },
     "execution_count": 3,
     "metadata": {},
     "output_type": "execute_result"
    }
   ],
   "source": [
    "berichte.head()"
   ]
  },
  {
   "cell_type": "code",
   "execution_count": 4,
   "metadata": {},
   "outputs": [],
   "source": [
    "# Make timestamps datetime\n",
    "berichte[\"Timestamp\"] = pd.to_datetime(berichte[\"Timestamp\"])\n",
    "berichte[\"Date\"] = pd.to_datetime(berichte[\"Date\"])"
   ]
  },
  {
   "cell_type": "code",
   "execution_count": 5,
   "metadata": {},
   "outputs": [
    {
     "data": {
      "text/plain": [
       "count                 27\n",
       "mean     0 days 00:00:00\n",
       "std      0 days 00:00:00\n",
       "min      0 days 00:00:00\n",
       "25%      0 days 00:00:00\n",
       "50%      0 days 00:00:00\n",
       "75%      0 days 00:00:00\n",
       "max      0 days 00:00:00\n",
       "dtype: object"
      ]
     },
     "execution_count": 5,
     "metadata": {},
     "output_type": "execute_result"
    }
   ],
   "source": [
    "# Calculate differences between time of occurence (Date) and time of publishing (Timestamp)\n",
    "publishing_delay = berichte[\"Timestamp\"].dt.date - berichte[\"Date\"].dt.date\n",
    "publishing_delay.describe()"
   ]
  },
  {
   "cell_type": "code",
   "execution_count": 6,
   "metadata": {},
   "outputs": [
    {
     "data": {
      "text/plain": [
       "em            12\n",
       "fue            7\n",
       "ne             4\n",
       "ka             3\n",
       "12.04.2019     1\n",
       "Name: Author, dtype: int64"
      ]
     },
     "execution_count": 6,
     "metadata": {},
     "output_type": "execute_result"
    }
   ],
   "source": [
    "# How many articles did each author publish?\n",
    "berichte[\"Author\"].value_counts()"
   ]
  },
  {
   "cell_type": "code",
   "execution_count": 7,
   "metadata": {},
   "outputs": [],
   "source": [
    "# Determine number of published articles per author and location\n",
    "authors_locations_data = berichte[[\"Author\", \"Ort\"]]\n",
    "authors = berichte[\"Author\"].unique()\n",
    "\n",
    "pub_counts_per_author_and_location = pd.DataFrame(index=berichte[\"Ort\"].unique())\n",
    "\n",
    "for author in authors:\n",
    "    pub_counts_per_author_and_location[author] = authors_locations_data[authors_locations_data[\"Author\"]==author].groupby(by=\"Ort\").count()\n",
    "    \n",
    "pub_counts_per_author_and_location.replace({np.nan: 0}, inplace=True)"
   ]
  },
  {
   "cell_type": "code",
   "execution_count": 8,
   "metadata": {},
   "outputs": [
    {
     "name": "stdout",
     "output_type": "stream",
     "text": [
      "Published articles for author fue by location\n"
     ]
    },
    {
     "data": {
      "text/plain": [
       "<matplotlib.axes._subplots.AxesSubplot at 0x16971420780>"
      ]
     },
     "execution_count": 8,
     "metadata": {},
     "output_type": "execute_result"
    },
    {
     "data": {
      "image/png": "[encoded data removed]",
      "text/plain": [
       "<Figure size 432x288 with 1 Axes>"
      ]
     },
     "metadata": {
      "needs_background": "light"
     },
     "output_type": "display_data"
    }
   ],
   "source": [
    "# Counts of published articles by location for an example author\n",
    "example_author = pub_counts_per_author_and_location.columns[1]\n",
    "print(\"Published articles for author {} by location\".format(example_author))\n",
    "pub_counts_per_author_and_location[example_author][pub_counts_per_author_and_location[example_author]!=0].sort_values().plot(kind=\"bar\")"
   ]
  },
  {
   "cell_type": "code",
   "execution_count": 9,
   "metadata": {},
   "outputs": [
    {
     "data": {
      "text/html": [
       "<div>\n",
       "<style scoped>\n",
       "    .dataframe tbody tr th:only-of-type {\n",
       "        vertical-align: middle;\n",
       "    }\n",
       "\n",
       "    .dataframe tbody tr th {\n",
       "        vertical-align: top;\n",
       "    }\n",
       "\n",
       "    .dataframe thead th {\n",
       "        text-align: right;\n",
       "    }\n",
       "</style>\n",
       "<table border=\"1\" class=\"dataframe\">\n",
       "  <thead>\n",
       "    <tr style=\"text-align: right;\">\n",
       "      <th></th>\n",
       "      <th>ne</th>\n",
       "      <th>fue</th>\n",
       "      <th>em</th>\n",
       "      <th>ka</th>\n",
       "      <th>12.04.2019</th>\n",
       "    </tr>\n",
       "  </thead>\n",
       "  <tbody>\n",
       "    <tr>\n",
       "      <th>1</th>\n",
       "      <td>Bockenheim</td>\n",
       "      <td>Fechenheim</td>\n",
       "      <td>BAB</td>\n",
       "      <td>Bundesautobahn</td>\n",
       "      <td>Nordend</td>\n",
       "    </tr>\n",
       "    <tr>\n",
       "      <th>2</th>\n",
       "      <td>Nordend</td>\n",
       "      <td>Rödelheim</td>\n",
       "      <td>Gallus</td>\n",
       "      <td>Griesheim</td>\n",
       "      <td>Rödelheim</td>\n",
       "    </tr>\n",
       "    <tr>\n",
       "      <th>3</th>\n",
       "      <td>Sachsenhausen</td>\n",
       "      <td>Sachsenhausen</td>\n",
       "      <td>Sachsenhausen</td>\n",
       "      <td>Sachsenhausen</td>\n",
       "      <td>Sachsenhausen</td>\n",
       "    </tr>\n",
       "  </tbody>\n",
       "</table>\n",
       "</div>"
      ],
      "text/plain": [
       "              ne            fue             em              ka     12.04.2019\n",
       "1     Bockenheim     Fechenheim            BAB  Bundesautobahn        Nordend\n",
       "2        Nordend      Rödelheim         Gallus       Griesheim      Rödelheim\n",
       "3  Sachsenhausen  Sachsenhausen  Sachsenhausen   Sachsenhausen  Sachsenhausen"
      ]
     },
     "execution_count": 9,
     "metadata": {},
     "output_type": "execute_result"
    }
   ],
   "source": [
    "# Top locations for each author\n",
    "top_locations_by_author = pd.DataFrame(index=[1,2,3])\n",
    "for author in pub_counts_per_author_and_location.columns:\n",
    "    top_locations_by_author[author] = pub_counts_per_author_and_location[author].nlargest(n=3).index.sort_values()\n",
    "top_locations_by_author"
   ]
  },
  {
   "cell_type": "code",
   "execution_count": 10,
   "metadata": {},
   "outputs": [
    {
     "data": {
      "text/plain": [
       "<matplotlib.axes._subplots.AxesSubplot at 0x16973876be0>"
      ]
     },
     "execution_count": 10,
     "metadata": {},
     "output_type": "execute_result"
    },
    {
     "data": {
      "image/png": "[encoded data removed]",
      "text/plain": [
       "<Figure size 432x288 with 1 Axes>"
      ]
     },
     "metadata": {
      "needs_background": "light"
     },
     "output_type": "display_data"
    }
   ],
   "source": [
    "# At which times are articles published?\n",
    "pub_hours = berichte[\"Timestamp\"].dt.hour\n",
    "pub_hours.plot(kind=\"hist\")"
   ]
  },
  {
   "cell_type": "code",
   "execution_count": 11,
   "metadata": {},
   "outputs": [
    {
     "data": {
      "image/png": "[encoded data removed]",
      "text/plain": [
       "<Figure size 432x288 with 1 Axes>"
      ]
     },
     "metadata": {
      "needs_background": "light"
     },
     "output_type": "display_data"
    }
   ],
   "source": [
    "# Distribution of the article Link IDs\n",
    "link_ids = pd.DataFrame({\"link_id\": [link[-7:] for link in berichte[\"Link\"]]})\n",
    "link_ids = link_ids.astype(int)\n",
    "ax = sns.distplot(link_ids[\"link_id\"])"
   ]
  },
  {
   "cell_type": "code",
   "execution_count": null,
   "metadata": {},
   "outputs": [],
   "source": []
  }
 ],
 "metadata": {
  "kernelspec": {
   "display_name": "Python 3",
   "language": "python",
   "name": "python3"
  },
  "language_info": {
   "codemirror_mode": {
    "name": "ipython",
    "version": 3
   },
   "file_extension": ".py",
   "mimetype": "text/x-python",
   "name": "python",
   "nbconvert_exporter": "python",
   "pygments_lexer": "ipython3",
   "version": "3.6.8"
  }
 },
 "nbformat": 4,
 "nbformat_minor": 2
}
