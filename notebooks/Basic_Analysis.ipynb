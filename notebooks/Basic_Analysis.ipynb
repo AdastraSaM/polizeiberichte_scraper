{
 "cells": [
  {
   "cell_type": "code",
   "execution_count": 1,
   "metadata": {},
   "outputs": [],
   "source": [
    "import pandas as pd\n",
    "import numpy as np\n",
    "\n",
    "pd.options.display.max_colwidth = 100"
   ]
  },
  {
   "cell_type": "code",
   "execution_count": 2,
   "metadata": {},
   "outputs": [],
   "source": [
    "berichte = pd.read_csv(r\"../out/Polizeiberichte.csv\", sep=\";\", encoding=\"UTF-8\")"
   ]
  },
  {
   "cell_type": "code",
   "execution_count": 3,
   "metadata": {},
   "outputs": [
    {
     "data": {
      "text/html": [
       "<div>\n",
       "<style scoped>\n",
       "    .dataframe tbody tr th:only-of-type {\n",
       "        vertical-align: middle;\n",
       "    }\n",
       "\n",
       "    .dataframe tbody tr th {\n",
       "        vertical-align: top;\n",
       "    }\n",
       "\n",
       "    .dataframe thead th {\n",
       "        text-align: right;\n",
       "    }\n",
       "</style>\n",
       "<table border=\"1\" class=\"dataframe\">\n",
       "  <thead>\n",
       "    <tr style=\"text-align: right;\">\n",
       "      <th></th>\n",
       "      <th>Timestamp</th>\n",
       "      <th>Headline</th>\n",
       "      <th>Hauptartikel</th>\n",
       "      <th>Link</th>\n",
       "      <th>Date</th>\n",
       "      <th>Location</th>\n",
       "      <th>Location2</th>\n",
       "      <th>Beschreibung</th>\n",
       "      <th>Place</th>\n",
       "      <th>Author</th>\n",
       "    </tr>\n",
       "  </thead>\n",
       "  <tbody>\n",
       "    <tr>\n",
       "      <th>0</th>\n",
       "      <td>2019-04-24 12:48:00</td>\n",
       "      <td>Raub auf Bekleidungsgeschäft</td>\n",
       "      <td>Ein bislang unbekannter Täter betrat am Dienstag, den 23. April 2019, gegen 13.30 Uhr, ein Bekl...</td>\n",
       "      <td>https://www.presseportal.de/blaulicht/pm/4970/4253254</td>\n",
       "      <td>2019-04-24 00:00:00</td>\n",
       "      <td>Sachsenhausen</td>\n",
       "      <td>NaN</td>\n",
       "      <td>Frankfurt (ots)  (fue)</td>\n",
       "      <td>Frankfurt</td>\n",
       "      <td>fue</td>\n",
       "    </tr>\n",
       "    <tr>\n",
       "      <th>1</th>\n",
       "      <td>2019-04-24 12:05:00</td>\n",
       "      <td>Graffiti gemalt und Drogen zu Hause</td>\n",
       "      <td>Ein junger Mann im Alter von 23 Jahren und sein bislang unbekannter Begleiter sind am Montag vo...</td>\n",
       "      <td>https://www.presseportal.de/blaulicht/pm/4970/4253182</td>\n",
       "      <td>2019-04-24 00:00:00</td>\n",
       "      <td>Bockenheim</td>\n",
       "      <td>Innenstadt</td>\n",
       "      <td>Frankfurt (ots)  (ne)</td>\n",
       "      <td>Frankfurt</td>\n",
       "      <td>ne</td>\n",
       "    </tr>\n",
       "    <tr>\n",
       "      <th>2</th>\n",
       "      <td>2019-04-24 11:48:00</td>\n",
       "      <td>Verdacht der CO-Vergiftung durch Shisharauchen</td>\n",
       "      <td>Drei Frauen und ein Mann sind gestern Nachmittag mit Verdacht auf Kohlenmonoxid-Vergiftung in K...</td>\n",
       "      <td>https://www.presseportal.de/blaulicht/pm/4970/4253146</td>\n",
       "      <td>2019-04-24 00:00:00</td>\n",
       "      <td>Goldstein</td>\n",
       "      <td>NaN</td>\n",
       "      <td>Frankfurt (ots)  (ne)</td>\n",
       "      <td>Frankfurt</td>\n",
       "      <td>ne</td>\n",
       "    </tr>\n",
       "    <tr>\n",
       "      <th>3</th>\n",
       "      <td>2019-04-23 14:53:00</td>\n",
       "      <td>Versuchtes Tötungsdelikt</td>\n",
       "      <td>Am Ostersonntag (21.04.2019) wurde einem 26-jährigen Mann im Schlaf schwere Kopfverletzungen zu...</td>\n",
       "      <td>https://www.presseportal.de/blaulicht/pm/4970/4252376</td>\n",
       "      <td>2019-04-23 00:00:00</td>\n",
       "      <td>Gallus</td>\n",
       "      <td>NaN</td>\n",
       "      <td>Frankfurt (ots)  (em)</td>\n",
       "      <td>Frankfurt</td>\n",
       "      <td>em</td>\n",
       "    </tr>\n",
       "    <tr>\n",
       "      <th>4</th>\n",
       "      <td>2019-04-23 14:37:00</td>\n",
       "      <td>Streit um Parkplatz endet in tätlichem Angriff</td>\n",
       "      <td>Am Karfreitag (19.04.2019) endete ein Streit zweier Frauen um einen Parkplatz, für einen der be...</td>\n",
       "      <td>https://www.presseportal.de/blaulicht/pm/4970/4252342</td>\n",
       "      <td>2019-04-23 00:00:00</td>\n",
       "      <td>Fechenheim</td>\n",
       "      <td>NaN</td>\n",
       "      <td>Frankfurt (ots)  (em)</td>\n",
       "      <td>Frankfurt</td>\n",
       "      <td>em</td>\n",
       "    </tr>\n",
       "  </tbody>\n",
       "</table>\n",
       "</div>"
      ],
      "text/plain": [
       "             Timestamp                                        Headline  \\\n",
       "0  2019-04-24 12:48:00                    Raub auf Bekleidungsgeschäft   \n",
       "1  2019-04-24 12:05:00             Graffiti gemalt und Drogen zu Hause   \n",
       "2  2019-04-24 11:48:00  Verdacht der CO-Vergiftung durch Shisharauchen   \n",
       "3  2019-04-23 14:53:00                        Versuchtes Tötungsdelikt   \n",
       "4  2019-04-23 14:37:00  Streit um Parkplatz endet in tätlichem Angriff   \n",
       "\n",
       "                                                                                          Hauptartikel  \\\n",
       "0   Ein bislang unbekannter Täter betrat am Dienstag, den 23. April 2019, gegen 13.30 Uhr, ein Bekl...   \n",
       "1   Ein junger Mann im Alter von 23 Jahren und sein bislang unbekannter Begleiter sind am Montag vo...   \n",
       "2   Drei Frauen und ein Mann sind gestern Nachmittag mit Verdacht auf Kohlenmonoxid-Vergiftung in K...   \n",
       "3   Am Ostersonntag (21.04.2019) wurde einem 26-jährigen Mann im Schlaf schwere Kopfverletzungen zu...   \n",
       "4   Am Karfreitag (19.04.2019) endete ein Streit zweier Frauen um einen Parkplatz, für einen der be...   \n",
       "\n",
       "                                                    Link                 Date  \\\n",
       "0  https://www.presseportal.de/blaulicht/pm/4970/4253254  2019-04-24 00:00:00   \n",
       "1  https://www.presseportal.de/blaulicht/pm/4970/4253182  2019-04-24 00:00:00   \n",
       "2  https://www.presseportal.de/blaulicht/pm/4970/4253146  2019-04-24 00:00:00   \n",
       "3  https://www.presseportal.de/blaulicht/pm/4970/4252376  2019-04-23 00:00:00   \n",
       "4  https://www.presseportal.de/blaulicht/pm/4970/4252342  2019-04-23 00:00:00   \n",
       "\n",
       "        Location   Location2            Beschreibung      Place Author  \n",
       "0  Sachsenhausen         NaN  Frankfurt (ots)  (fue)  Frankfurt    fue  \n",
       "1     Bockenheim  Innenstadt   Frankfurt (ots)  (ne)  Frankfurt     ne  \n",
       "2      Goldstein         NaN   Frankfurt (ots)  (ne)  Frankfurt     ne  \n",
       "3         Gallus         NaN   Frankfurt (ots)  (em)  Frankfurt     em  \n",
       "4     Fechenheim         NaN   Frankfurt (ots)  (em)  Frankfurt     em  "
      ]
     },
     "execution_count": 3,
     "metadata": {},
     "output_type": "execute_result"
    }
   ],
   "source": [
    "berichte.head()"
   ]
  },
  {
   "cell_type": "code",
   "execution_count": 4,
   "metadata": {},
   "outputs": [],
   "source": [
    "# Make timestamps datetime\n",
    "berichte[\"Timestamp\"] = pd.to_datetime(berichte[\"Timestamp\"])\n",
    "berichte[\"Date\"] = pd.to_datetime(berichte[\"Date\"])"
   ]
  },
  {
   "cell_type": "code",
   "execution_count": 5,
   "metadata": {},
   "outputs": [
    {
     "data": {
      "text/plain": [
       "count                        539\n",
       "mean     38 days 05:57:59.777365\n",
       "std      87 days 07:09:46.322923\n",
       "min          -148 days +00:00:00\n",
       "25%              0 days 00:00:00\n",
       "50%              0 days 00:00:00\n",
       "75%             30 days 00:00:00\n",
       "max            294 days 00:00:00\n",
       "dtype: object"
      ]
     },
     "execution_count": 5,
     "metadata": {},
     "output_type": "execute_result"
    }
   ],
   "source": [
    "# Calculate differences between time of occurence (Date) and time of publishing (Timestamp)\n",
    "publishing_delay = berichte[\"Timestamp\"].dt.date - berichte[\"Date\"].dt.date\n",
    "publishing_delay.describe()"
   ]
  },
  {
   "cell_type": "code",
   "execution_count": 6,
   "metadata": {},
   "outputs": [
    {
     "data": {
      "text/plain": [
       "em               145\n",
       "fue              120\n",
       "ka               117\n",
       "ne                77\n",
       "mc                31\n",
       "md                 8\n",
       "pe                 7\n",
       "hol                5\n",
       "me                 5\n",
       "hs                 3\n",
       "ki                 2\n",
       "72                 1\n",
       "GER                1\n",
       "kam                1\n",
       "ab                 1\n",
       "ots                1\n",
       "03.04.2019         1\n",
       "3.3.2019           1\n",
       "em/gf              1\n",
       "em/ki              1\n",
       "12.04.2019         1\n",
       "Ki                 1\n",
       "Schutzzone         1\n",
       "BMJV               1\n",
       "Ankunftsebene      1\n",
       "2019               1\n",
       "neu                1\n",
       "Name: Author, dtype: int64"
      ]
     },
     "execution_count": 6,
     "metadata": {},
     "output_type": "execute_result"
    }
   ],
   "source": [
    "# How many articles did each author publish?\n",
    "berichte[\"Author\"].value_counts()"
   ]
  },
  {
   "cell_type": "code",
   "execution_count": null,
   "metadata": {},
   "outputs": [],
   "source": []
  },
  {
   "cell_type": "code",
   "execution_count": 7,
   "metadata": {},
   "outputs": [
    {
     "data": {
      "text/plain": [
       "Series([], Name: Link, dtype: object)"
      ]
     },
     "execution_count": 7,
     "metadata": {},
     "output_type": "execute_result"
    }
   ],
   "source": [
    "berichte[berichte[\"Author\"]==\"(ne)\"][\"Link\"]"
   ]
  },
  {
   "cell_type": "code",
   "execution_count": 8,
   "metadata": {},
   "outputs": [],
   "source": [
    "# Determine number of published articles per author and location\n",
    "authors_locations_data = berichte[[\"Author\", \"Location\"]]\n",
    "authors = berichte[\"Author\"].unique()\n",
    "\n",
    "pub_counts_per_author_and_location = pd.DataFrame(index=berichte[\"Location\"].unique())\n",
    "\n",
    "for author in authors:\n",
    "    pub_counts_per_author_and_location[author] = authors_locations_data[authors_locations_data[\"Author\"]==author].groupby(by=\"Location\").count()\n",
    "    \n",
    "pub_counts_per_author_and_location.replace({np.nan: 0}, inplace=True)"
   ]
  },
  {
   "cell_type": "code",
   "execution_count": 9,
   "metadata": {},
   "outputs": [
    {
     "name": "stdout",
     "output_type": "stream",
     "text": [
      "Published articles for author ne by location\n"
     ]
    },
    {
     "data": {
      "text/plain": [
       "<matplotlib.axes._subplots.AxesSubplot at 0x24f62b48128>"
      ]
     },
     "execution_count": 9,
     "metadata": {},
     "output_type": "execute_result"
    }
   ],
   "source": [
    "# Counts of published articles by location for an example author\n",
    "example_author = pub_counts_per_author_and_location.columns[1]\n",
    "print(\"Published articles for author {} by location\".format(example_author))\n",
    "pub_counts_per_author_and_location[example_author][pub_counts_per_author_and_location[example_author]!=0].sort_values().plot(kind=\"bar\")"
   ]
  },
  {
   "cell_type": "code",
   "execution_count": 10,
   "metadata": {},
   "outputs": [
    {
     "data": {
      "text/html": [
       "<div>\n",
       "<style scoped>\n",
       "    .dataframe tbody tr th:only-of-type {\n",
       "        vertical-align: middle;\n",
       "    }\n",
       "\n",
       "    .dataframe tbody tr th {\n",
       "        vertical-align: top;\n",
       "    }\n",
       "\n",
       "    .dataframe thead th {\n",
       "        text-align: right;\n",
       "    }\n",
       "</style>\n",
       "<table border=\"1\" class=\"dataframe\">\n",
       "  <thead>\n",
       "    <tr style=\"text-align: right;\">\n",
       "      <th></th>\n",
       "      <th>fue</th>\n",
       "      <th>ne</th>\n",
       "      <th>em</th>\n",
       "      <th>ka</th>\n",
       "      <th>12.04.2019</th>\n",
       "      <th>nan</th>\n",
       "      <th>neu</th>\n",
       "      <th>Schutzzone</th>\n",
       "      <th>pe</th>\n",
       "      <th>ots</th>\n",
       "      <th>...</th>\n",
       "      <th>hol</th>\n",
       "      <th>Ki</th>\n",
       "      <th>3.3.2019</th>\n",
       "      <th>BMJV</th>\n",
       "      <th>Ankunftsebene</th>\n",
       "      <th>kam</th>\n",
       "      <th>em/ki</th>\n",
       "      <th>em/gf</th>\n",
       "      <th>ab</th>\n",
       "      <th>GER</th>\n",
       "    </tr>\n",
       "  </thead>\n",
       "  <tbody>\n",
       "    <tr>\n",
       "      <th>1</th>\n",
       "      <td>Bundesautobahn</td>\n",
       "      <td>Bornheim</td>\n",
       "      <td>BAB</td>\n",
       "      <td>Bahnhofsviertel</td>\n",
       "      <td>Bockenheim</td>\n",
       "      <td>Bockenheim</td>\n",
       "      <td>Bockenheim</td>\n",
       "      <td>Bockenheim</td>\n",
       "      <td>Bahnhofsviertel</td>\n",
       "      <td>Bockenheim</td>\n",
       "      <td>...</td>\n",
       "      <td>Bockenheim</td>\n",
       "      <td>Bockenheim</td>\n",
       "      <td>Bockenheim</td>\n",
       "      <td>Bockenheim</td>\n",
       "      <td>Bockenheim</td>\n",
       "      <td>Bockenheim</td>\n",
       "      <td>Bockenheim</td>\n",
       "      <td>Bockenheim</td>\n",
       "      <td>Bockenheim</td>\n",
       "      <td>Bockenheim</td>\n",
       "    </tr>\n",
       "    <tr>\n",
       "      <th>2</th>\n",
       "      <td>Sachsenhausen</td>\n",
       "      <td>Nordend</td>\n",
       "      <td>Innenstadt</td>\n",
       "      <td>Gallus</td>\n",
       "      <td>Goldstein</td>\n",
       "      <td>Goldstein</td>\n",
       "      <td>Maintal</td>\n",
       "      <td>Innenstadt</td>\n",
       "      <td>Bornheim</td>\n",
       "      <td>Marburg</td>\n",
       "      <td>...</td>\n",
       "      <td>Ostend</td>\n",
       "      <td>Flughafen</td>\n",
       "      <td>Goldstein</td>\n",
       "      <td>Goldstein</td>\n",
       "      <td>DinslakenDuisburg</td>\n",
       "      <td>Sachsenhausen</td>\n",
       "      <td>Goldstein</td>\n",
       "      <td>Goldstein</td>\n",
       "      <td>Sachsenhausen</td>\n",
       "      <td>Goldstein</td>\n",
       "    </tr>\n",
       "    <tr>\n",
       "      <th>3</th>\n",
       "      <td>Stadtgebiet</td>\n",
       "      <td>Westend</td>\n",
       "      <td>Sachsenhausen</td>\n",
       "      <td>Innenstadt</td>\n",
       "      <td>Sachsenhausen</td>\n",
       "      <td>Sachsenhausen</td>\n",
       "      <td>Sachsenhausen</td>\n",
       "      <td>Sachsenhausen</td>\n",
       "      <td>Dornbusch</td>\n",
       "      <td>Sachsenhausen</td>\n",
       "      <td>...</td>\n",
       "      <td>Sachsenhausen</td>\n",
       "      <td>Sachsenhausen</td>\n",
       "      <td>Sachsenhausen</td>\n",
       "      <td>Sachsenhausen</td>\n",
       "      <td>Sachsenhausen</td>\n",
       "      <td>Unterliederbach</td>\n",
       "      <td>Sachsenhausen</td>\n",
       "      <td>Sachsenhausen</td>\n",
       "      <td>Sindlingen</td>\n",
       "      <td>Sachsenhausen</td>\n",
       "    </tr>\n",
       "  </tbody>\n",
       "</table>\n",
       "<p>3 rows × 28 columns</p>\n",
       "</div>"
      ],
      "text/plain": [
       "              fue        ne             em               ka     12.04.2019  \\\n",
       "1  Bundesautobahn  Bornheim            BAB  Bahnhofsviertel     Bockenheim   \n",
       "2   Sachsenhausen   Nordend     Innenstadt           Gallus      Goldstein   \n",
       "3     Stadtgebiet   Westend  Sachsenhausen       Innenstadt  Sachsenhausen   \n",
       "\n",
       "             NaN            neu     Schutzzone               pe  \\\n",
       "1     Bockenheim     Bockenheim     Bockenheim  Bahnhofsviertel   \n",
       "2      Goldstein        Maintal     Innenstadt         Bornheim   \n",
       "3  Sachsenhausen  Sachsenhausen  Sachsenhausen        Dornbusch   \n",
       "\n",
       "             ots  ...            hol             Ki       3.3.2019  \\\n",
       "1     Bockenheim  ...     Bockenheim     Bockenheim     Bockenheim   \n",
       "2        Marburg  ...         Ostend      Flughafen      Goldstein   \n",
       "3  Sachsenhausen  ...  Sachsenhausen  Sachsenhausen  Sachsenhausen   \n",
       "\n",
       "            BMJV      Ankunftsebene              kam          em/ki  \\\n",
       "1     Bockenheim         Bockenheim       Bockenheim     Bockenheim   \n",
       "2      Goldstein  DinslakenDuisburg    Sachsenhausen      Goldstein   \n",
       "3  Sachsenhausen      Sachsenhausen  Unterliederbach  Sachsenhausen   \n",
       "\n",
       "           em/gf             ab            GER  \n",
       "1     Bockenheim     Bockenheim     Bockenheim  \n",
       "2      Goldstein  Sachsenhausen      Goldstein  \n",
       "3  Sachsenhausen     Sindlingen  Sachsenhausen  \n",
       "\n",
       "[3 rows x 28 columns]"
      ]
     },
     "execution_count": 10,
     "metadata": {},
     "output_type": "execute_result"
    }
   ],
   "source": [
    "# Top locations for each author\n",
    "top_locations_by_author = pd.DataFrame(index=[1,2,3])\n",
    "for author in pub_counts_per_author_and_location.columns:\n",
    "    top_locations_by_author[author] = pub_counts_per_author_and_location[author].nlargest(n=3).index.sort_values()\n",
    "top_locations_by_author"
   ]
  },
  {
   "cell_type": "code",
   "execution_count": 11,
   "metadata": {},
   "outputs": [
    {
     "data": {
      "text/plain": [
       "<matplotlib.axes._subplots.AxesSubplot at 0x24f61e5a6d8>"
      ]
     },
     "execution_count": 11,
     "metadata": {},
     "output_type": "execute_result"
    },
    {
     "data": {
      "image/png": "[encoded data removed]",
      "text/plain": [
       "<Figure size 432x288 with 1 Axes>"
      ]
     },
     "metadata": {
      "needs_background": "light"
     },
     "output_type": "display_data"
    }
   ],
   "source": [
    "# At which times are articles published?\n",
    "pub_hours = berichte[\"Timestamp\"].dt.hour\n",
    "pub_hours.plot(kind=\"hist\")"
   ]
  }
 ],
 "metadata": {
  "kernelspec": {
   "display_name": "Python 3",
   "language": "python",
   "name": "python3"
  },
  "language_info": {
   "codemirror_mode": {
    "name": "ipython",
    "version": 3
   },
   "file_extension": ".py",
   "mimetype": "text/x-python",
   "name": "python",
   "nbconvert_exporter": "python",
   "pygments_lexer": "ipython3",
   "version": "3.6.8"
  }
 },
 "nbformat": 4,
 "nbformat_minor": 2
}
