{
 "cells": [
  {
   "cell_type": "code",
   "execution_count": 2,
   "metadata": {},
   "outputs": [],
   "source": [
    "import pickle\n",
    "import seaborn as sns\n",
    "import pandas as pd"
   ]
  },
  {
   "cell_type": "code",
   "execution_count": 3,
   "metadata": {},
   "outputs": [],
   "source": [
    "model_pkl = open(r\"..\\resources\\pickled\\SVC_author_classifier.pkl\", 'rb')\n",
    "model = pickle.load(model_pkl)\n",
    "model_pkl.close()\n",
    "\n",
    "transformer_count_pkl = open(r\"..\\resources\\pickled\\count_transformer.pkl\", \"rb\")\n",
    "count_transformer = pickle.load(transformer_count_pkl)\n",
    "transformer_count_pkl.close()\n",
    "\n",
    "transformer_tfidf_pkl = open(r\"..\\resources\\pickled\\tfidf_transformer.pkl\", \"rb\")\n",
    "tfidf_transformer = pickle.load(transformer_tfidf_pkl)\n",
    "transformer_tfidf_pkl.close()"
   ]
  },
  {
   "cell_type": "code",
   "execution_count": 4,
   "metadata": {},
   "outputs": [],
   "source": [
    "new_text = r\"Gestern Mittag um 11:50 Uhr kam es in der Tiefgarage eines Supermarktes in der Homburger Landstraße zu einem Fahrzeugbrand. Der Opel Astra einer 53-jährigen Frau hatte nach dem Verlassen des Fahrzeuges, auf bislang unbekannte Weise, angefangen zu brennen. Zunächst qualmte es aus dem Auto, als die Frau vom Einkauf zurückkam. Die 53-Jährige reagierte sofort. Sie befreite ihren Hund aus dem Auto und rief die Feuerwehr. Die löschte den mittlerweile in Vollbrand stehenden Opel ab. Der Supermarkt über der Tiefgarage musste vorsorglich geräumt werden. Sowohl die 53-Jährige als auch ihr Hund blieben unverletzt. Ein neben dem Opel geparktes Auto wurde durch die starke Hitzeentwicklung ebenfalls beschädigt. Der Gesamtschaden wird auf ca. 15.000 Euro geschätzt. Ersten Erkenntnissen geht die Kriminalpolizei von einem technischen Defekt am Fahrzeug aus. \"\n",
    "new_text_transf = tfidf_transformer.transform(count_transformer.transform([new_text]))"
   ]
  },
  {
   "cell_type": "code",
   "execution_count": 5,
   "metadata": {},
   "outputs": [],
   "source": [
    "probas = model.predict_proba(new_text_transf)[0]"
   ]
  },
  {
   "cell_type": "code",
   "execution_count": 6,
   "metadata": {},
   "outputs": [
    {
     "data": {
      "text/plain": [
       "<matplotlib.axes._subplots.AxesSubplot at 0x203d8cbc9b0>"
      ]
     },
     "execution_count": 6,
     "metadata": {},
     "output_type": "execute_result"
    },
    {
     "data": {
      "image/png": "[encoded data removed]",
      "text/plain": [
       "<Figure size 432x288 with 1 Axes>"
      ]
     },
     "metadata": {
      "needs_background": "light"
     },
     "output_type": "display_data"
    }
   ],
   "source": [
    "plotdata = pd.DataFrame()\n",
    "plotdata[\"class\"] = model.classes_\n",
    "plotdata[\"probas\"] = probas\n",
    "\n",
    "sns.barplot(x=\"class\", y=\"probas\", data=plotdata)"
   ]
  },
  {
   "cell_type": "code",
   "execution_count": null,
   "metadata": {},
   "outputs": [],
   "source": []
  }
 ],
 "metadata": {
  "kernelspec": {
   "display_name": "Python 3",
   "language": "python",
   "name": "python3"
  },
  "language_info": {
   "codemirror_mode": {
    "name": "ipython",
    "version": 3
   },
   "file_extension": ".py",
   "mimetype": "text/x-python",
   "name": "python",
   "nbconvert_exporter": "python",
   "pygments_lexer": "ipython3",
   "version": "3.6.8"
  }
 },
 "nbformat": 4,
 "nbformat_minor": 2
}
