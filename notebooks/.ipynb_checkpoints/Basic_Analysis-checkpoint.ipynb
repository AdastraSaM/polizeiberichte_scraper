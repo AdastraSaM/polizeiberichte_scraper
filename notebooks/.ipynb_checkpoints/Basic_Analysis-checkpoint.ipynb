{
 "cells": [
  {
   "cell_type": "code",
   "execution_count": 1,
   "metadata": {},
   "outputs": [],
   "source": [
    "import pandas as pd\n",
    "import numpy as np\n",
    "\n",
    "import seaborn as sns\n",
    "\n",
    "pd.options.display.max_colwidth = 100"
   ]
  },
  {
   "cell_type": "code",
   "execution_count": 2,
   "metadata": {},
   "outputs": [],
   "source": [
    "berichte = pd.read_csv(r\"../out/Polizeiberichte_transformed.csv\", sep=\";\", encoding=\"UTF-8\")"
   ]
  },
  {
   "cell_type": "code",
   "execution_count": 3,
   "metadata": {},
   "outputs": [
    {
     "data": {
      "text/html": [
       "<div>\n",
       "<style scoped>\n",
       "    .dataframe tbody tr th:only-of-type {\n",
       "        vertical-align: middle;\n",
       "    }\n",
       "\n",
       "    .dataframe tbody tr th {\n",
       "        vertical-align: top;\n",
       "    }\n",
       "\n",
       "    .dataframe thead th {\n",
       "        text-align: right;\n",
       "    }\n",
       "</style>\n",
       "<table border=\"1\" class=\"dataframe\">\n",
       "  <thead>\n",
       "    <tr style=\"text-align: right;\">\n",
       "      <th></th>\n",
       "      <th>Timestamp</th>\n",
       "      <th>Ueberschrift</th>\n",
       "      <th>Hauptartikel</th>\n",
       "      <th>Link</th>\n",
       "      <th>Datum</th>\n",
       "      <th>Ort</th>\n",
       "      <th>Sekundaerer Ort</th>\n",
       "      <th>Beschreibung</th>\n",
       "      <th>Author</th>\n",
       "      <th>Ueberschrift_cleaned</th>\n",
       "      <th>Ueberschrift_lemmatized</th>\n",
       "      <th>Ueberschrift_lemmatized_cleaned</th>\n",
       "      <th>Ueberschrift_lemmatized_cleaned_no_stopwords</th>\n",
       "      <th>Hauptartikel_cleaned</th>\n",
       "      <th>Hauptartikel_lemmatized</th>\n",
       "      <th>Hauptartikel_lemmatized_cleaned</th>\n",
       "      <th>Hauptartikel_lemmatized_cleaned_no_stopwords</th>\n",
       "    </tr>\n",
       "  </thead>\n",
       "  <tbody>\n",
       "    <tr>\n",
       "      <th>0</th>\n",
       "      <td>2019-04-29 11:12:00</td>\n",
       "      <td>-Jähriger verletzt Polizisten</td>\n",
       "      <td>Gestern Nachmittag leistete ein Mann im Terminal 1 heftigen Widerstand und verletzte dabei eine...</td>\n",
       "      <td>https://www.presseportal.de/blaulicht/pm/4970/4256973</td>\n",
       "      <td>2019-04-29</td>\n",
       "      <td>Flughafen</td>\n",
       "      <td>NaN</td>\n",
       "      <td>Frankfurt(ots)</td>\n",
       "      <td>ka</td>\n",
       "      <td>jähriger verletzt polizisten</td>\n",
       "      <td>jährig verletzen polizisten</td>\n",
       "      <td>jährig verletzen polizisten</td>\n",
       "      <td>verletzen polizisten</td>\n",
       "      <td>gestern nachmittag leistete ein mann im terminal  heftigen widerstand und verletzte dabei einen...</td>\n",
       "      <td>gestern nachmittag leisten einen mann im terminal   heftig widerstehen und verletzen dabei ein...</td>\n",
       "      <td>gestern nachmittag leisten einen mann im terminal   heftig widerstehen und verletzen dabei ein...</td>\n",
       "      <td>leisten terminal heftig widerstehen verletzen beamten halle terminal rufen hausverbot durchsetze...</td>\n",
       "    </tr>\n",
       "    <tr>\n",
       "      <th>1</th>\n",
       "      <td>2019-04-28 12:34:00</td>\n",
       "      <td>Versuchter Raub in Spielothek</td>\n",
       "      <td>Am Sonntag, den 28. April 2019, gegen 01.50 Uhr, betrat eine zunächst unbekannte männliche Pers...</td>\n",
       "      <td>https://www.presseportal.de/blaulicht/pm/4970/4256438</td>\n",
       "      <td>2019-04-28</td>\n",
       "      <td>Nordend</td>\n",
       "      <td>NaN</td>\n",
       "      <td>Frankfurt(ots)</td>\n",
       "      <td>fue</td>\n",
       "      <td>versuchter raub in spielothek</td>\n",
       "      <td>versucht raub in spielothek</td>\n",
       "      <td>versucht raub in spielothek</td>\n",
       "      <td>versucht raub spielothek</td>\n",
       "      <td>am sonntag den  april  gegen  uhr betrat eine zunächst unbekannte männliche person eine spielot...</td>\n",
       "      <td>am sonntag der   april   gegen   uhr betreten einen zunächst unbekannt männliche person einen ...</td>\n",
       "      <td>am sonntag der   april   gegen   uhr betreten einen zunächst unbekannt männliche person einen ...</td>\n",
       "      <td>betreten unbekannt männliche person spielothek schwarzburgstraße anwesend angestellt bedrohen me...</td>\n",
       "    </tr>\n",
       "    <tr>\n",
       "      <th>2</th>\n",
       "      <td>2019-04-26 14:51:00</td>\n",
       "      <td>Verkehrshinweise anlässlich des traditionellen Radrennens am . Mai</td>\n",
       "      <td>Auch dieses Jahr findet das Rad- und Skaterrennen \"Eschborn/Frankfurt - Der Radklassiker\" am 01...</td>\n",
       "      <td>https://www.presseportal.de/blaulicht/pm/4970/4255648</td>\n",
       "      <td>2019-04-26</td>\n",
       "      <td>NaN</td>\n",
       "      <td>NaN</td>\n",
       "      <td>Frankfurt(ots)</td>\n",
       "      <td>em</td>\n",
       "      <td>verkehrshinweise anlässlich des traditionellen radrennens am  mai</td>\n",
       "      <td>verkehrshinweise anlässlich der traditionell radrennens am   mai</td>\n",
       "      <td>verkehrshinweise anlässlich der traditionell radrennens am   mai</td>\n",
       "      <td>verkehrshinweise anlässlich traditionell radrennens</td>\n",
       "      <td>auch dieses jahr findet das rad und skaterrennen eschbornfrankfurt  der radklassiker am  mai  w...</td>\n",
       "      <td>auch dies jahr finden der rad und skaterrennen eschbornfrankfurt   der radklassiker am   mai  ...</td>\n",
       "      <td>auch dies jahr finden der rad und skaterrennen eschbornfrankfurt   der radklassiker am   mai  ...</td>\n",
       "      <td>rad skaterrennen eschbornfrankfurt radklassiker taunus innenstadt beeinträchtigungen straßenverk...</td>\n",
       "    </tr>\n",
       "    <tr>\n",
       "      <th>3</th>\n",
       "      <td>2019-04-26 11:54:00</td>\n",
       "      <td>Parfum-Dieb festgenommen</td>\n",
       "      <td>Der aufmerksame Ladendetektiv eines Einkaufszentrums im Limescorso hat gestern Abend einen 22-j...</td>\n",
       "      <td>https://www.presseportal.de/blaulicht/pm/4970/4255242</td>\n",
       "      <td>2019-04-26</td>\n",
       "      <td>Heddernheim</td>\n",
       "      <td>NaN</td>\n",
       "      <td>Frankfurt(ots)</td>\n",
       "      <td>ne</td>\n",
       "      <td>parfumdieb festgenommen</td>\n",
       "      <td>parfumdieb festnehmen</td>\n",
       "      <td>parfumdieb festnehmen</td>\n",
       "      <td>parfumdieb festnehmen</td>\n",
       "      <td>der aufmerksame ladendetektiv eines einkaufszentrums im limescorso hat gestern abend einen jähr...</td>\n",
       "      <td>der aufmerksam ladendetektiv ein einkaufszentrums im limescorso haben gestern abend ein jährig...</td>\n",
       "      <td>der aufmerksam ladendetektiv ein einkaufszentrums im limescorso haben gestern abend ein jährig...</td>\n",
       "      <td>aufmerksam ladendetektiv einkaufszentrums limescorso dieb klauen flaschen parfum erwischen mitge...</td>\n",
       "    </tr>\n",
       "    <tr>\n",
       "      <th>4</th>\n",
       "      <td>2019-04-26 11:53:00</td>\n",
       "      <td>Einbruch in Café</td>\n",
       "      <td>Ein unbekannter Täter ist gestern Nacht in ein Café am Merianplatz eingebrochen und hat Bargeld...</td>\n",
       "      <td>https://www.presseportal.de/blaulicht/pm/4970/4255239</td>\n",
       "      <td>2019-04-26</td>\n",
       "      <td>Nordend</td>\n",
       "      <td>NaN</td>\n",
       "      <td>Frankfurt(ots)</td>\n",
       "      <td>ne</td>\n",
       "      <td>einbruch in caf</td>\n",
       "      <td>einbruch in caf</td>\n",
       "      <td>einbruch in caf</td>\n",
       "      <td>einbruch caf</td>\n",
       "      <td>ein unbekannter täter ist gestern nacht in ein caf am merianplatz eingebrochen und hat bargeld ...</td>\n",
       "      <td>einen unbekannt täter sein gestern nacht in einen caf am merianplatz einbrechen und haben barg...</td>\n",
       "      <td>einen unbekannt täter sein gestern nacht in einen caf am merianplatz einbrechen und haben barg...</td>\n",
       "      <td>unbekannt täter caf merianplatz einbrechen bargeld entwenden eingangstür gelangt täter gewaltsam...</td>\n",
       "    </tr>\n",
       "  </tbody>\n",
       "</table>\n",
       "</div>"
      ],
      "text/plain": [
       "             Timestamp  \\\n",
       "0  2019-04-29 11:12:00   \n",
       "1  2019-04-28 12:34:00   \n",
       "2  2019-04-26 14:51:00   \n",
       "3  2019-04-26 11:54:00   \n",
       "4  2019-04-26 11:53:00   \n",
       "\n",
       "                                                          Ueberschrift  \\\n",
       "0                                        -Jähriger verletzt Polizisten   \n",
       "1                                        Versuchter Raub in Spielothek   \n",
       "2   Verkehrshinweise anlässlich des traditionellen Radrennens am . Mai   \n",
       "3                                             Parfum-Dieb festgenommen   \n",
       "4                                                     Einbruch in Café   \n",
       "\n",
       "                                                                                          Hauptartikel  \\\n",
       "0   Gestern Nachmittag leistete ein Mann im Terminal 1 heftigen Widerstand und verletzte dabei eine...   \n",
       "1   Am Sonntag, den 28. April 2019, gegen 01.50 Uhr, betrat eine zunächst unbekannte männliche Pers...   \n",
       "2   Auch dieses Jahr findet das Rad- und Skaterrennen \"Eschborn/Frankfurt - Der Radklassiker\" am 01...   \n",
       "3   Der aufmerksame Ladendetektiv eines Einkaufszentrums im Limescorso hat gestern Abend einen 22-j...   \n",
       "4   Ein unbekannter Täter ist gestern Nacht in ein Café am Merianplatz eingebrochen und hat Bargeld...   \n",
       "\n",
       "                                                    Link       Datum  \\\n",
       "0  https://www.presseportal.de/blaulicht/pm/4970/4256973  2019-04-29   \n",
       "1  https://www.presseportal.de/blaulicht/pm/4970/4256438  2019-04-28   \n",
       "2  https://www.presseportal.de/blaulicht/pm/4970/4255648  2019-04-26   \n",
       "3  https://www.presseportal.de/blaulicht/pm/4970/4255242  2019-04-26   \n",
       "4  https://www.presseportal.de/blaulicht/pm/4970/4255239  2019-04-26   \n",
       "\n",
       "           Ort Sekundaerer Ort    Beschreibung Author  \\\n",
       "0    Flughafen             NaN  Frankfurt(ots)     ka   \n",
       "1      Nordend             NaN  Frankfurt(ots)    fue   \n",
       "2          NaN             NaN  Frankfurt(ots)     em   \n",
       "3  Heddernheim             NaN  Frankfurt(ots)     ne   \n",
       "4      Nordend             NaN  Frankfurt(ots)     ne   \n",
       "\n",
       "                                                 Ueberschrift_cleaned  \\\n",
       "0                                        jähriger verletzt polizisten   \n",
       "1                                       versuchter raub in spielothek   \n",
       "2   verkehrshinweise anlässlich des traditionellen radrennens am  mai   \n",
       "3                                             parfumdieb festgenommen   \n",
       "4                                                     einbruch in caf   \n",
       "\n",
       "                                              Ueberschrift_lemmatized  \\\n",
       "0                                         jährig verletzen polizisten   \n",
       "1                                         versucht raub in spielothek   \n",
       "2    verkehrshinweise anlässlich der traditionell radrennens am   mai   \n",
       "3                                               parfumdieb festnehmen   \n",
       "4                                                     einbruch in caf   \n",
       "\n",
       "                                      Ueberschrift_lemmatized_cleaned  \\\n",
       "0                                         jährig verletzen polizisten   \n",
       "1                                         versucht raub in spielothek   \n",
       "2    verkehrshinweise anlässlich der traditionell radrennens am   mai   \n",
       "3                                               parfumdieb festnehmen   \n",
       "4                                                     einbruch in caf   \n",
       "\n",
       "          Ueberschrift_lemmatized_cleaned_no_stopwords  \\\n",
       "0                                 verletzen polizisten   \n",
       "1                             versucht raub spielothek   \n",
       "2  verkehrshinweise anlässlich traditionell radrennens   \n",
       "3                                parfumdieb festnehmen   \n",
       "4                                         einbruch caf   \n",
       "\n",
       "                                                                                  Hauptartikel_cleaned  \\\n",
       "0   gestern nachmittag leistete ein mann im terminal  heftigen widerstand und verletzte dabei einen...   \n",
       "1   am sonntag den  april  gegen  uhr betrat eine zunächst unbekannte männliche person eine spielot...   \n",
       "2   auch dieses jahr findet das rad und skaterrennen eschbornfrankfurt  der radklassiker am  mai  w...   \n",
       "3   der aufmerksame ladendetektiv eines einkaufszentrums im limescorso hat gestern abend einen jähr...   \n",
       "4   ein unbekannter täter ist gestern nacht in ein caf am merianplatz eingebrochen und hat bargeld ...   \n",
       "\n",
       "                                                                               Hauptartikel_lemmatized  \\\n",
       "0    gestern nachmittag leisten einen mann im terminal   heftig widerstehen und verletzen dabei ein...   \n",
       "1    am sonntag der   april   gegen   uhr betreten einen zunächst unbekannt männliche person einen ...   \n",
       "2    auch dies jahr finden der rad und skaterrennen eschbornfrankfurt   der radklassiker am   mai  ...   \n",
       "3    der aufmerksam ladendetektiv ein einkaufszentrums im limescorso haben gestern abend ein jährig...   \n",
       "4    einen unbekannt täter sein gestern nacht in einen caf am merianplatz einbrechen und haben barg...   \n",
       "\n",
       "                                                                       Hauptartikel_lemmatized_cleaned  \\\n",
       "0    gestern nachmittag leisten einen mann im terminal   heftig widerstehen und verletzen dabei ein...   \n",
       "1    am sonntag der   april   gegen   uhr betreten einen zunächst unbekannt männliche person einen ...   \n",
       "2    auch dies jahr finden der rad und skaterrennen eschbornfrankfurt   der radklassiker am   mai  ...   \n",
       "3    der aufmerksam ladendetektiv ein einkaufszentrums im limescorso haben gestern abend ein jährig...   \n",
       "4    einen unbekannt täter sein gestern nacht in einen caf am merianplatz einbrechen und haben barg...   \n",
       "\n",
       "                                                          Hauptartikel_lemmatized_cleaned_no_stopwords  \n",
       "0  leisten terminal heftig widerstehen verletzen beamten halle terminal rufen hausverbot durchsetze...  \n",
       "1  betreten unbekannt männliche person spielothek schwarzburgstraße anwesend angestellt bedrohen me...  \n",
       "2  rad skaterrennen eschbornfrankfurt radklassiker taunus innenstadt beeinträchtigungen straßenverk...  \n",
       "3  aufmerksam ladendetektiv einkaufszentrums limescorso dieb klauen flaschen parfum erwischen mitge...  \n",
       "4  unbekannt täter caf merianplatz einbrechen bargeld entwenden eingangstür gelangt täter gewaltsam...  "
      ]
     },
     "execution_count": 3,
     "metadata": {},
     "output_type": "execute_result"
    }
   ],
   "source": [
    "berichte.head()"
   ]
  },
  {
   "cell_type": "code",
   "execution_count": 4,
   "metadata": {},
   "outputs": [],
   "source": [
    "# Make timestamps datetime\n",
    "berichte[\"Timestamp\"] = pd.to_datetime(berichte[\"Timestamp\"])\n",
    "berichte[\"Datum\"] = pd.to_datetime(berichte[\"Datum\"])"
   ]
  },
  {
   "cell_type": "code",
   "execution_count": 5,
   "metadata": {},
   "outputs": [
    {
     "data": {
      "text/plain": [
       "count                       2158\n",
       "mean      3 days 23:44:39.147358\n",
       "std      95 days 21:36:09.519966\n",
       "min          -323 days +00:00:00\n",
       "25%              0 days 00:00:00\n",
       "50%              0 days 00:00:00\n",
       "75%              0 days 00:00:00\n",
       "max            629 days 00:00:00\n",
       "dtype: object"
      ]
     },
     "execution_count": 5,
     "metadata": {},
     "output_type": "execute_result"
    }
   ],
   "source": [
    "# Calculate differences between time of occurence (Date) and time of publishing (Timestamp)\n",
    "publishing_delay = berichte[\"Timestamp\"].dt.date - berichte[\"Datum\"].dt.date\n",
    "publishing_delay.describe()"
   ]
  },
  {
   "cell_type": "code",
   "execution_count": 6,
   "metadata": {},
   "outputs": [
    {
     "data": {
      "text/plain": [
       "fue                          480\n",
       "ka                           462\n",
       "em                           426\n",
       "ne                           322\n",
       "mc                           235\n",
       "as                           137\n",
       "md                             8\n",
       "pe                             7\n",
       "me                             5\n",
       "nk                             5\n",
       "hol                            5\n",
       "kie                            4\n",
       "TCF                            3\n",
       "hs                             3\n",
       "ki                             2\n",
       "aa                             2\n",
       "www.gdv.de/einbruchreport      1\n",
       "JH/em                          1\n",
       "Heim-                          1\n",
       "Euro                           1\n",
       "neu                            1\n",
       "em/gf                          1\n",
       "Ankunftsebene                  1\n",
       "BMJV                           1\n",
       "ots                            1\n",
       "Ki                             1\n",
       "31                             1\n",
       "em/ki                          1\n",
       "Uni-Campus                     1\n",
       "72                             1\n",
       "069                            1\n",
       "re/em                          1\n",
       "2019                           1\n",
       "12.04.2019                     1\n",
       "alt                            1\n",
       "ka/ne                          1\n",
       "Limburg-Weilburg               1\n",
       "lt                             1\n",
       "em/ne                          1\n",
       "Schutzzone                     1\n",
       "jl                             1\n",
       "Main                           1\n",
       "kam                            1\n",
       "CvD                            1\n",
       "1                              1\n",
       "S-Bahnen                       1\n",
       "ab                             1\n",
       "03.04.2019                     1\n",
       "01.12.2017                     1\n",
       "hatte                          1\n",
       "Riedwiese/Mertonviertel        1\n",
       "GER                            1\n",
       "3.3.2019                       1\n",
       "Name: Author, dtype: int64"
      ]
     },
     "execution_count": 6,
     "metadata": {},
     "output_type": "execute_result"
    }
   ],
   "source": [
    "# How many articles did each author publish?\n",
    "berichte[\"Author\"].value_counts()"
   ]
  },
  {
   "cell_type": "code",
   "execution_count": 7,
   "metadata": {},
   "outputs": [],
   "source": [
    "# Drop bad authors\n",
    "bad_authors = set(berichte[\"Author\"].value_counts().loc[berichte[\"Author\"].value_counts() <= 1].index)\n",
    "berichte.drop(berichte[berichte[\"Author\"].isin(bad_authors)==True].index, inplace=True)\n"
   ]
  },
  {
   "cell_type": "code",
   "execution_count": 12,
   "metadata": {},
   "outputs": [
    {
     "data": {
      "text/plain": [
       "fue    480\n",
       "ka     462\n",
       "em     426\n",
       "ne     322\n",
       "mc     235\n",
       "as     137\n",
       "md       8\n",
       "pe       7\n",
       "hol      5\n",
       "nk       5\n",
       "me       5\n",
       "kie      4\n",
       "hs       3\n",
       "TCF      3\n",
       "aa       2\n",
       "ki       2\n",
       "Name: Author, dtype: int64"
      ]
     },
     "execution_count": 12,
     "metadata": {},
     "output_type": "execute_result"
    }
   ],
   "source": [
    "# How many articles did each good author publish?\n",
    "berichte[\"Author\"].value_counts()"
   ]
  },
  {
   "cell_type": "code",
   "execution_count": 8,
   "metadata": {},
   "outputs": [],
   "source": [
    "# Determine number of published articles per author and location\n",
    "authors_locations_data = berichte[[\"Author\", \"Ort\"]]\n",
    "authors = berichte[\"Author\"].unique()\n",
    "\n",
    "pub_counts_per_author_and_location = pd.DataFrame(index=berichte[\"Ort\"].unique())\n",
    "\n",
    "for author in authors:\n",
    "    pub_counts_per_author_and_location[author] = authors_locations_data[authors_locations_data[\"Author\"]==author].groupby(by=\"Ort\").count()\n",
    "    \n",
    "pub_counts_per_author_and_location.replace({np.nan: 0}, inplace=True)"
   ]
  },
  {
   "cell_type": "code",
   "execution_count": 9,
   "metadata": {},
   "outputs": [
    {
     "name": "stdout",
     "output_type": "stream",
     "text": [
      "Published articles for author fue by location\n"
     ]
    },
    {
     "data": {
      "text/plain": [
       "<matplotlib.axes._subplots.AxesSubplot at 0x21b7127dba8>"
      ]
     },
     "execution_count": 9,
     "metadata": {},
     "output_type": "execute_result"
    },
    {
     "data": {
      "image/png": "[encoded data removed]",
      "text/plain": [
       "<Figure size 432x288 with 1 Axes>"
      ]
     },
     "metadata": {
      "needs_background": "light"
     },
     "output_type": "display_data"
    }
   ],
   "source": [
    "# Counts of published articles by location for an example author\n",
    "example_author = pub_counts_per_author_and_location.columns[1]\n",
    "print(\"Published articles for author {} by location\".format(example_author))\n",
    "pub_counts_per_author_and_location[example_author][pub_counts_per_author_and_location[example_author]!=0].sort_values().plot(kind=\"bar\")"
   ]
  },
  {
   "cell_type": "code",
   "execution_count": 10,
   "metadata": {},
   "outputs": [
    {
     "data": {
      "text/plain": [
       "Index(['Flughafen', 'Nordend', nan], dtype='object')"
      ]
     },
     "execution_count": 10,
     "metadata": {},
     "output_type": "execute_result"
    }
   ],
   "source": [
    "pub_counts_per_author_and_location[author].nlargest(n=3).index"
   ]
  },
  {
   "cell_type": "code",
   "execution_count": 16,
   "metadata": {},
   "outputs": [
    {
     "name": "stdout",
     "output_type": "stream",
     "text": [
      "Index(['Bahnhofsviertel', 'Bundesautobahn', 'Innenstadt'], dtype='object')\n",
      "Index(['Stadtgebiet', 'Bundesautobahn', 'Bahnhofsviertel'], dtype='object')\n",
      "Index(['Bahnhofsviertel', 'Innenstadt', 'Sachsenhausen'], dtype='object')\n",
      "Index(['Nordend', 'Bundesautobahn', 'Innenstadt'], dtype='object')\n",
      "Index(['Flughafen', 'Nordend', nan], dtype='object')\n"
     ]
    },
    {
     "ename": "TypeError",
     "evalue": "'<' not supported between instances of 'float' and 'str'",
     "output_type": "error",
     "traceback": [
      "\u001b[1;31m---------------------------------------------------------------------------\u001b[0m",
      "\u001b[1;31mTypeError\u001b[0m                                 Traceback (most recent call last)",
      "\u001b[1;32m<ipython-input-16-e6f0f7e1ad77>\u001b[0m in \u001b[0;36m<module>\u001b[1;34m\u001b[0m\n\u001b[0;32m      3\u001b[0m \u001b[1;32mfor\u001b[0m \u001b[0mauthor\u001b[0m \u001b[1;32min\u001b[0m \u001b[0mpub_counts_per_author_and_location\u001b[0m\u001b[1;33m.\u001b[0m\u001b[0mcolumns\u001b[0m\u001b[1;33m:\u001b[0m\u001b[1;33m\u001b[0m\u001b[1;33m\u001b[0m\u001b[0m\n\u001b[0;32m      4\u001b[0m     \u001b[0mprint\u001b[0m\u001b[1;33m(\u001b[0m\u001b[0mpub_counts_per_author_and_location\u001b[0m\u001b[1;33m[\u001b[0m\u001b[0mauthor\u001b[0m\u001b[1;33m]\u001b[0m\u001b[1;33m.\u001b[0m\u001b[0mnlargest\u001b[0m\u001b[1;33m(\u001b[0m\u001b[0mn\u001b[0m\u001b[1;33m=\u001b[0m\u001b[1;36m3\u001b[0m\u001b[1;33m)\u001b[0m\u001b[1;33m.\u001b[0m\u001b[0mindex\u001b[0m\u001b[1;33m)\u001b[0m\u001b[1;33m\u001b[0m\u001b[1;33m\u001b[0m\u001b[0m\n\u001b[1;32m----> 5\u001b[1;33m     \u001b[0mtop_locations_by_author\u001b[0m\u001b[1;33m[\u001b[0m\u001b[0mauthor\u001b[0m\u001b[1;33m]\u001b[0m \u001b[1;33m=\u001b[0m \u001b[0mpub_counts_per_author_and_location\u001b[0m\u001b[1;33m[\u001b[0m\u001b[0mauthor\u001b[0m\u001b[1;33m]\u001b[0m\u001b[1;33m.\u001b[0m\u001b[0mnlargest\u001b[0m\u001b[1;33m(\u001b[0m\u001b[0mn\u001b[0m\u001b[1;33m=\u001b[0m\u001b[1;36m3\u001b[0m\u001b[1;33m)\u001b[0m\u001b[1;33m.\u001b[0m\u001b[0mindex\u001b[0m\u001b[1;33m.\u001b[0m\u001b[0msort_values\u001b[0m\u001b[1;33m(\u001b[0m\u001b[1;33m)\u001b[0m\u001b[1;33m\u001b[0m\u001b[1;33m\u001b[0m\u001b[0m\n\u001b[0m\u001b[0;32m      6\u001b[0m \u001b[0mtop_locations_by_author\u001b[0m\u001b[1;33m\u001b[0m\u001b[1;33m\u001b[0m\u001b[0m\n",
      "\u001b[1;32m~\\AppData\\Local\\Continuum\\anaconda3\\lib\\site-packages\\pandas\\core\\indexes\\base.py\u001b[0m in \u001b[0;36msort_values\u001b[1;34m(self, return_indexer, ascending)\u001b[0m\n\u001b[0;32m   4226\u001b[0m         \u001b[1;33m(\u001b[0m\u001b[0mInt64Index\u001b[0m\u001b[1;33m(\u001b[0m\u001b[1;33m[\u001b[0m\u001b[1;36m1000\u001b[0m\u001b[1;33m,\u001b[0m \u001b[1;36m100\u001b[0m\u001b[1;33m,\u001b[0m \u001b[1;36m10\u001b[0m\u001b[1;33m,\u001b[0m \u001b[1;36m1\u001b[0m\u001b[1;33m]\u001b[0m\u001b[1;33m,\u001b[0m \u001b[0mdtype\u001b[0m\u001b[1;33m=\u001b[0m\u001b[1;34m'int64'\u001b[0m\u001b[1;33m)\u001b[0m\u001b[1;33m,\u001b[0m \u001b[0marray\u001b[0m\u001b[1;33m(\u001b[0m\u001b[1;33m[\u001b[0m\u001b[1;36m3\u001b[0m\u001b[1;33m,\u001b[0m \u001b[1;36m1\u001b[0m\u001b[1;33m,\u001b[0m \u001b[1;36m0\u001b[0m\u001b[1;33m,\u001b[0m \u001b[1;36m2\u001b[0m\u001b[1;33m]\u001b[0m\u001b[1;33m)\u001b[0m\u001b[1;33m)\u001b[0m\u001b[1;33m\u001b[0m\u001b[1;33m\u001b[0m\u001b[0m\n\u001b[0;32m   4227\u001b[0m         \"\"\"\n\u001b[1;32m-> 4228\u001b[1;33m         \u001b[0m_as\u001b[0m \u001b[1;33m=\u001b[0m \u001b[0mself\u001b[0m\u001b[1;33m.\u001b[0m\u001b[0margsort\u001b[0m\u001b[1;33m(\u001b[0m\u001b[1;33m)\u001b[0m\u001b[1;33m\u001b[0m\u001b[1;33m\u001b[0m\u001b[0m\n\u001b[0m\u001b[0;32m   4229\u001b[0m         \u001b[1;32mif\u001b[0m \u001b[1;32mnot\u001b[0m \u001b[0mascending\u001b[0m\u001b[1;33m:\u001b[0m\u001b[1;33m\u001b[0m\u001b[1;33m\u001b[0m\u001b[0m\n\u001b[0;32m   4230\u001b[0m             \u001b[0m_as\u001b[0m \u001b[1;33m=\u001b[0m \u001b[0m_as\u001b[0m\u001b[1;33m[\u001b[0m\u001b[1;33m:\u001b[0m\u001b[1;33m:\u001b[0m\u001b[1;33m-\u001b[0m\u001b[1;36m1\u001b[0m\u001b[1;33m]\u001b[0m\u001b[1;33m\u001b[0m\u001b[1;33m\u001b[0m\u001b[0m\n",
      "\u001b[1;32m~\\AppData\\Local\\Continuum\\anaconda3\\lib\\site-packages\\pandas\\core\\indexes\\base.py\u001b[0m in \u001b[0;36margsort\u001b[1;34m(self, *args, **kwargs)\u001b[0m\n\u001b[0;32m   4338\u001b[0m         \u001b[1;32mif\u001b[0m \u001b[0mresult\u001b[0m \u001b[1;32mis\u001b[0m \u001b[1;32mNone\u001b[0m\u001b[1;33m:\u001b[0m\u001b[1;33m\u001b[0m\u001b[1;33m\u001b[0m\u001b[0m\n\u001b[0;32m   4339\u001b[0m             \u001b[0mresult\u001b[0m \u001b[1;33m=\u001b[0m \u001b[0mnp\u001b[0m\u001b[1;33m.\u001b[0m\u001b[0marray\u001b[0m\u001b[1;33m(\u001b[0m\u001b[0mself\u001b[0m\u001b[1;33m)\u001b[0m\u001b[1;33m\u001b[0m\u001b[1;33m\u001b[0m\u001b[0m\n\u001b[1;32m-> 4340\u001b[1;33m         \u001b[1;32mreturn\u001b[0m \u001b[0mresult\u001b[0m\u001b[1;33m.\u001b[0m\u001b[0margsort\u001b[0m\u001b[1;33m(\u001b[0m\u001b[1;33m*\u001b[0m\u001b[0margs\u001b[0m\u001b[1;33m,\u001b[0m \u001b[1;33m**\u001b[0m\u001b[0mkwargs\u001b[0m\u001b[1;33m)\u001b[0m\u001b[1;33m\u001b[0m\u001b[1;33m\u001b[0m\u001b[0m\n\u001b[0m\u001b[0;32m   4341\u001b[0m \u001b[1;33m\u001b[0m\u001b[0m\n\u001b[0;32m   4342\u001b[0m     \u001b[1;32mdef\u001b[0m \u001b[0mget_value\u001b[0m\u001b[1;33m(\u001b[0m\u001b[0mself\u001b[0m\u001b[1;33m,\u001b[0m \u001b[0mseries\u001b[0m\u001b[1;33m,\u001b[0m \u001b[0mkey\u001b[0m\u001b[1;33m)\u001b[0m\u001b[1;33m:\u001b[0m\u001b[1;33m\u001b[0m\u001b[1;33m\u001b[0m\u001b[0m\n",
      "\u001b[1;31mTypeError\u001b[0m: '<' not supported between instances of 'float' and 'str'"
     ]
    }
   ],
   "source": [
    "# Top locations for each author\n",
    "top_locations_by_author = pd.DataFrame(index=[1,2,3])\n",
    "for author in pub_counts_per_author_and_location.columns:\n",
    "    print(pub_counts_per_author_and_location[author].nlargest(n=3).index)\n",
    "    top_locations_by_author[author] = pub_counts_per_author_and_location[author].nlargest(n=3).index.sort_values()\n",
    "top_locations_by_author"
   ]
  },
  {
   "cell_type": "code",
   "execution_count": null,
   "metadata": {},
   "outputs": [],
   "source": []
  },
  {
   "cell_type": "code",
   "execution_count": 1,
   "metadata": {},
   "outputs": [
    {
     "ename": "NameError",
     "evalue": "name 'berichte' is not defined",
     "output_type": "error",
     "traceback": [
      "\u001b[1;31m---------------------------------------------------------------------------\u001b[0m",
      "\u001b[1;31mNameError\u001b[0m                                 Traceback (most recent call last)",
      "\u001b[1;32m<ipython-input-1-5a0dd49d2674>\u001b[0m in \u001b[0;36m<module>\u001b[1;34m\u001b[0m\n\u001b[0;32m      1\u001b[0m \u001b[1;31m# At which times are articles published?\u001b[0m\u001b[1;33m\u001b[0m\u001b[1;33m\u001b[0m\u001b[1;33m\u001b[0m\u001b[0m\n\u001b[1;32m----> 2\u001b[1;33m \u001b[0mpub_hours\u001b[0m \u001b[1;33m=\u001b[0m \u001b[0mberichte\u001b[0m\u001b[1;33m[\u001b[0m\u001b[1;34m\"Timestamp\"\u001b[0m\u001b[1;33m]\u001b[0m\u001b[1;33m.\u001b[0m\u001b[0mdt\u001b[0m\u001b[1;33m.\u001b[0m\u001b[0mhour\u001b[0m\u001b[1;33m\u001b[0m\u001b[1;33m\u001b[0m\u001b[0m\n\u001b[0m\u001b[0;32m      3\u001b[0m \u001b[0max\u001b[0m \u001b[1;33m=\u001b[0m \u001b[0msns\u001b[0m\u001b[1;33m.\u001b[0m\u001b[0mdistplot\u001b[0m\u001b[1;33m(\u001b[0m\u001b[0mpub_hours\u001b[0m\u001b[1;33m)\u001b[0m\u001b[1;33m\u001b[0m\u001b[1;33m\u001b[0m\u001b[0m\n",
      "\u001b[1;31mNameError\u001b[0m: name 'berichte' is not defined"
     ]
    }
   ],
   "source": [
    "# At which times are articles published?\n",
    "pub_hours = berichte[\"Timestamp\"].dt.hour\n",
    "ax = sns.distplot(pub_hours)"
   ]
  },
  {
   "cell_type": "code",
   "execution_count": null,
   "metadata": {},
   "outputs": [],
   "source": []
  },
  {
   "cell_type": "code",
   "execution_count": null,
   "metadata": {},
   "outputs": [],
   "source": [
    "# Distribution of the article Link IDs\n",
    "link_ids = pd.DataFrame({\"link_id\": [link[-7:] for link in berichte[\"Link\"]]})\n",
    "link_ids = link_ids.astype(int)\n",
    "ax = sns.distplot(link_ids[\"link_id\"])"
   ]
  },
  {
   "cell_type": "code",
   "execution_count": null,
   "metadata": {},
   "outputs": [],
   "source": []
  },
  {
   "cell_type": "code",
   "execution_count": null,
   "metadata": {},
   "outputs": [],
   "source": []
  }
 ],
 "metadata": {
  "kernelspec": {
   "display_name": "Python 3",
   "language": "python",
   "name": "python3"
  },
  "language_info": {
   "codemirror_mode": {
    "name": "ipython",
    "version": 3
   },
   "file_extension": ".py",
   "mimetype": "text/x-python",
   "name": "python",
   "nbconvert_exporter": "python",
   "pygments_lexer": "ipython3",
   "version": "3.7.3"
  }
 },
 "nbformat": 4,
 "nbformat_minor": 2
}
