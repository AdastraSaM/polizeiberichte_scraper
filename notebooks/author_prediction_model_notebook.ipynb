{
 "cells": [
  {
   "cell_type": "code",
   "execution_count": 1,
   "metadata": {},
   "outputs": [],
   "source": [
    "import pandas as pd"
   ]
  },
  {
   "cell_type": "code",
   "execution_count": 2,
   "metadata": {},
   "outputs": [],
   "source": [
    "data = pd.read_csv(r\"..\\out\\Polizeiberichte_transformed.csv\", sep=\";\", encoding=\"UTF-8\")"
   ]
  },
  {
   "cell_type": "code",
   "execution_count": 3,
   "metadata": {},
   "outputs": [
    {
     "data": {
      "text/plain": [
       "Index(['Timestamp', 'Ueberschrift', 'Hauptartikel', 'Link', 'Datum', 'Ort',\n",
       "       'Sekundaerer Ort', 'Author', 'Ueberschrift_clean', 'Ueberschrift_lem',\n",
       "       'Ueberschrift_lem_no_stop', 'Ueberschrift_split', 'Ueberschrift_clean2',\n",
       "       'Ueberschrift_lem2', 'Ueberschrift_lem_clean2',\n",
       "       'Ueberschrift_lem_clean_no_stop', 'Ueberschrift_kombi',\n",
       "       'Hauptartikel_clean', 'Hauptartikel_lem', 'Hauptartikel_lemm_clean',\n",
       "       'Hauptartikel_lem_clean_no_stop'],\n",
       "      dtype='object')"
      ]
     },
     "execution_count": 3,
     "metadata": {},
     "output_type": "execute_result"
    }
   ],
   "source": [
    "data.columns"
   ]
  },
  {
   "cell_type": "code",
   "execution_count": 4,
   "metadata": {},
   "outputs": [],
   "source": [
    "data[\"text\"] = data[\"Ueberschrift_clean\"] + data[\"Hauptartikel_clean\"]"
   ]
  },
  {
   "cell_type": "code",
   "execution_count": null,
   "metadata": {},
   "outputs": [],
   "source": []
  },
  {
   "cell_type": "code",
   "execution_count": 5,
   "metadata": {},
   "outputs": [],
   "source": [
    "data = data[[\"text\", \"Author\"]]\n",
    "data = data[data[\"Author\"].isin([\"as\", \"em\", \"fue\", \"ka\", \"mc\", \"ne\", \"re\", \"va\", \"we\"])]"
   ]
  },
  {
   "cell_type": "code",
   "execution_count": 6,
   "metadata": {},
   "outputs": [
    {
     "data": {
      "text/html": [
       "<div>\n",
       "<style scoped>\n",
       "    .dataframe tbody tr th:only-of-type {\n",
       "        vertical-align: middle;\n",
       "    }\n",
       "\n",
       "    .dataframe tbody tr th {\n",
       "        vertical-align: top;\n",
       "    }\n",
       "\n",
       "    .dataframe thead th {\n",
       "        text-align: right;\n",
       "    }\n",
       "</style>\n",
       "<table border=\"1\" class=\"dataframe\">\n",
       "  <thead>\n",
       "    <tr style=\"text-align: right;\">\n",
       "      <th></th>\n",
       "      <th>text</th>\n",
       "    </tr>\n",
       "    <tr>\n",
       "      <th>Author</th>\n",
       "      <th></th>\n",
       "    </tr>\n",
       "  </thead>\n",
       "  <tbody>\n",
       "    <tr>\n",
       "      <th>as</th>\n",
       "      <td>422</td>\n",
       "    </tr>\n",
       "    <tr>\n",
       "      <th>em</th>\n",
       "      <td>758</td>\n",
       "    </tr>\n",
       "    <tr>\n",
       "      <th>fue</th>\n",
       "      <td>1084</td>\n",
       "    </tr>\n",
       "    <tr>\n",
       "      <th>ka</th>\n",
       "      <td>591</td>\n",
       "    </tr>\n",
       "    <tr>\n",
       "      <th>mc</th>\n",
       "      <td>534</td>\n",
       "    </tr>\n",
       "    <tr>\n",
       "      <th>ne</th>\n",
       "      <td>500</td>\n",
       "    </tr>\n",
       "    <tr>\n",
       "      <th>re</th>\n",
       "      <td>169</td>\n",
       "    </tr>\n",
       "    <tr>\n",
       "      <th>va</th>\n",
       "      <td>141</td>\n",
       "    </tr>\n",
       "    <tr>\n",
       "      <th>we</th>\n",
       "      <td>138</td>\n",
       "    </tr>\n",
       "  </tbody>\n",
       "</table>\n",
       "</div>"
      ],
      "text/plain": [
       "        text\n",
       "Author      \n",
       "as       422\n",
       "em       758\n",
       "fue     1084\n",
       "ka       591\n",
       "mc       534\n",
       "ne       500\n",
       "re       169\n",
       "va       141\n",
       "we       138"
      ]
     },
     "execution_count": 6,
     "metadata": {},
     "output_type": "execute_result"
    }
   ],
   "source": [
    "data.groupby(by=\"Author\").count()"
   ]
  },
  {
   "cell_type": "code",
   "execution_count": 7,
   "metadata": {},
   "outputs": [],
   "source": [
    "from sklearn.metrics import classification_report\n",
    "from sklearn.feature_extraction.text import CountVectorizer, TfidfTransformer\n",
    "\n",
    "from sklearn.model_selection import train_test_split, cross_val_score\n",
    "\n",
    "from sklearn.naive_bayes import MultinomialNB\n",
    "from sklearn.svm import LinearSVC, SVC\n",
    "\n",
    "from sklearn.metrics import classification_report, confusion_matrix"
   ]
  },
  {
   "cell_type": "code",
   "execution_count": 8,
   "metadata": {},
   "outputs": [],
   "source": [
    "count_vect = CountVectorizer()\n",
    "X_counts = count_vect.fit_transform(data[\"text\"])\n",
    "X_counts.shape\n",
    "\n",
    "tfidf_transformer = TfidfTransformer()\n",
    "X_tfidf = tfidf_transformer.fit_transform(X_counts)\n",
    "X_tfidf.shape\n",
    "\n",
    "Y = data[\"Author\"]"
   ]
  },
  {
   "cell_type": "code",
   "execution_count": 9,
   "metadata": {},
   "outputs": [],
   "source": [
    "#X_train, X_test, y_train, y_test = train_test_split(X_counts, Y, test_size=0.95, random_state = 0)"
   ]
  },
  {
   "cell_type": "code",
   "execution_count": 10,
   "metadata": {},
   "outputs": [],
   "source": [
    "clf_svc = SVC(kernel=\"linear\", probability=True)\n",
    "#cross_val_score(clf_svc, X_tfidf, Y, cv=5)"
   ]
  },
  {
   "cell_type": "code",
   "execution_count": 11,
   "metadata": {},
   "outputs": [
    {
     "data": {
      "text/plain": [
       "SVC(C=1.0, cache_size=200, class_weight=None, coef0=0.0,\n",
       "  decision_function_shape='ovr', degree=3, gamma='auto_deprecated',\n",
       "  kernel='linear', max_iter=-1, probability=True, random_state=None,\n",
       "  shrinking=True, tol=0.001, verbose=False)"
      ]
     },
     "execution_count": 11,
     "metadata": {},
     "output_type": "execute_result"
    }
   ],
   "source": [
    "clf_svc.fit(X_tfidf, Y)"
   ]
  },
  {
   "cell_type": "code",
   "execution_count": 28,
   "metadata": {},
   "outputs": [],
   "source": [
    "import pickle\n",
    "filename_model = 'SVC_author_classifier.pkl'\n",
    "SVC_model_pickle = open(filename_model, 'wb')\n",
    "pickle.dump(clf_svc, SVC_model_pickle)\n",
    "SVC_model_pickle.close()\n",
    "\n",
    "filename_count = 'count_transformer.pkl'\n",
    "count_pickle = open(filename_count, 'wb')\n",
    "pickle.dump(count_vect, count_pickle)\n",
    "count_pickle.close()\n",
    "\n",
    "filename_tfidf = 'tfidf_transformer.pkl'\n",
    "tfidf_pickle = open(filename_tfidf, 'wb')\n",
    "pickle.dump(tfidf_transformer, tfidf_pickle)\n",
    "transformer_pickle.close()"
   ]
  },
  {
   "cell_type": "code",
   "execution_count": null,
   "metadata": {},
   "outputs": [],
   "source": []
  },
  {
   "cell_type": "code",
   "execution_count": 22,
   "metadata": {},
   "outputs": [],
   "source": [
    "import seaborn as sns"
   ]
  },
  {
   "cell_type": "code",
   "execution_count": 24,
   "metadata": {},
   "outputs": [],
   "source": [
    "new_text = r\"Am Dienstag, den 15. Januar 2019, gegen 06.25 Uhr, befuhr ein 51-Jähriger mit seinem Motorroller die Straße Am Hauptbahnhof, vom Baseler Platz kommend und wollte nach links, in die Poststraße abbiegen. Plötzlich kam aus Richtung Bahnhofsviertel ein Radfahrer auf die Straße gefahren und kollidierte mit dem Rollerfahrer. Beide Personen stürzten zu Boden. Der 51-Jährige wurde bei dem Unfall leicht verletzt. Der Radfahrer verblieb zunächst noch einige Minuten am Unfallort, nutzte jedoch dann eine für ihn günstige Gelegenheit zur Flucht über die Gleise der Straßenbahn in Richtung Hauptbahnhof. Das von ihm benutzte Fahrrad ließ er zurück. Der Unfall konnte von einer Videokamera aufgezeichnet werden. Ein Bild des Fahrrades ist dieser Meldung beigefügt. Die Polizei bittet Personen, die sachdienliche Hinweise zu dem Fahrrad geben können, sich mit dem 4. Polizeirevier unter der Telefonnummer 069-75510400 in Verbindung zu setzen.\"\n",
    "\n",
    "new_text_transf = tfidf_transformer.transform(count_vect.transform([new_text]))"
   ]
  },
  {
   "cell_type": "code",
   "execution_count": 25,
   "metadata": {},
   "outputs": [],
   "source": [
    "probas = clf_svc.predict_proba(new_text_transf)[0]"
   ]
  },
  {
   "cell_type": "code",
   "execution_count": 26,
   "metadata": {},
   "outputs": [],
   "source": [
    "plotdata = pd.DataFrame()\n",
    "plotdata[\"class\"] = clf_svc.classes_\n",
    "plotdata[\"probas\"] = probas"
   ]
  },
  {
   "cell_type": "code",
   "execution_count": 27,
   "metadata": {},
   "outputs": [
    {
     "data": {
      "text/plain": [
       "<matplotlib.axes._subplots.AxesSubplot at 0x1fb21d3b048>"
      ]
     },
     "execution_count": 27,
     "metadata": {},
     "output_type": "execute_result"
    },
    {
     "data": {
      "image/png": "[encoded data removed]",
      "text/plain": [
       "<Figure size 432x288 with 1 Axes>"
      ]
     },
     "metadata": {
      "needs_background": "light"
     },
     "output_type": "display_data"
    }
   ],
   "source": [
    "sns.barplot(x=\"class\", y=\"probas\", data=plotdata)"
   ]
  },
  {
   "cell_type": "code",
   "execution_count": null,
   "metadata": {},
   "outputs": [],
   "source": []
  }
 ],
 "metadata": {
  "kernelspec": {
   "display_name": "Python 3",
   "language": "python",
   "name": "python3"
  },
  "language_info": {
   "codemirror_mode": {
    "name": "ipython",
    "version": 3
   },
   "file_extension": ".py",
   "mimetype": "text/x-python",
   "name": "python",
   "nbconvert_exporter": "python",
   "pygments_lexer": "ipython3",
   "version": "3.6.8"
  }
 },
 "nbformat": 4,
 "nbformat_minor": 2
}
